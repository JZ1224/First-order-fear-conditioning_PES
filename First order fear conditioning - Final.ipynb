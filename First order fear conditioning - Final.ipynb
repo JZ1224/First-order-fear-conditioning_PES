{
 "cells": [
  {
   "cell_type": "code",
   "execution_count": 1,
   "metadata": {},
   "outputs": [],
   "source": [
    "from scipy import signal\n",
    "import numpy as np\n",
    "import matplotlib.pyplot as plt\n",
    "%matplotlib inline\n",
    "import math\n",
    "import nengo\n",
    "from nengo.solvers import LstsqL2"
   ]
  },
  {
   "cell_type": "code",
   "execution_count": 2,
   "metadata": {},
   "outputs": [],
   "source": [
    "# Create a subclass of the \"network\". \n",
    "# PAY SUPER ATTENTION to the INDENTATION!!!!\n",
    "class InputSignal(nengo.Network):\n",
    "           def __init__(self):\n",
    "               self.stim = nengo.Node(lambda t: (signal.square(2*np.pi*0.5*t)+1)/2 + np.random.randn(1)/50*(signal.square(2*np.pi*0.5*t)+1)/2)"
   ]
  },
  {
   "cell_type": "code",
   "execution_count": 3,
   "metadata": {},
   "outputs": [],
   "source": [
    "# Create a second subclass of the \"network\".\n",
    "class VoidSignal(nengo.Network):\n",
    "           def __init__(self):\n",
    "               self.stim = nengo.Node(lambda t: [0])"
   ]
  },
  {
   "cell_type": "code",
   "execution_count": 4,
   "metadata": {},
   "outputs": [],
   "source": [
    "def pre_pair():\n",
    "    ## unpaired - CS is presented to show that there is no fear response to the stimulus\n",
    "    with nengo.Network() as submodel:\n",
    "        submodel.cs = InputSignal()\n",
    "        submodel.us = VoidSignal()\n",
    "        \n",
    "        submodel.ensemble_c = nengo.Ensemble(n_neurons=100, dimensions=1)\n",
    "        submodel.ensemble_u = nengo.Ensemble(n_neurons=100, dimensions=1)\n",
    "        submodel.ensemble_la = nengo.Ensemble(n_neurons=100, dimensions=1)\n",
    "        submodel.ensemble_bl = nengo.Ensemble(n_neurons=80, dimensions=1)\n",
    "        submodel.ensemble_cem = nengo.Ensemble(n_neurons=60, dimensions=1)\n",
    "        submodel.ensemble_fear = nengo.Ensemble(n_neurons=60, dimensions=1)\n",
    "        \n",
    "        nengo.Connection(submodel.cs.stim, submodel.ensemble_c)\n",
    "        nengo.Connection(submodel.us.stim, submodel.ensemble_u)\n",
    "        nengo.Connection(submodel.ensemble_c, submodel.ensemble_la, function=lambda x: np.random.randn(1)/100)\n",
    "        nengo.Connection(submodel.ensemble_u, submodel.ensemble_la, synapse=.01, transform=1)\n",
    "        nengo.Connection(submodel.ensemble_la, submodel.ensemble_bl, synapse=.01, transform=0.965)\n",
    "        nengo.Connection(submodel.ensemble_la, submodel.ensemble_cem, synapse=.01, transform=.035)\n",
    "        nengo.Connection(submodel.ensemble_bl, submodel.ensemble_cem, synapse=.01)\n",
    "        \n",
    "        # Fear is not a group of neurons; instead it corresponds to output of CEm.\n",
    "        nengo.Connection(submodel.ensemble_cem, submodel.ensemble_fear, function=lambda x: x if x > 0.75 else 0)\n",
    "        \n",
    "    return submodel"
   ]
  },
  {
   "cell_type": "code",
   "execution_count": 5,
   "metadata": {},
   "outputs": [],
   "source": [
    "def pairing():\n",
    "    ## pairing - CS is paired with the US    \n",
    "    with nengo.Network() as submodel:\n",
    "        \n",
    "        submodel.cs = InputSignal()\n",
    "        submodel.us = InputSignal()\n",
    "        \n",
    "        submodel.ensemble_c = nengo.Ensemble(n_neurons=100, dimensions=1)\n",
    "        submodel.ensemble_u = nengo.Ensemble(n_neurons=100, dimensions=1)\n",
    "        submodel.ensemble_la = nengo.Ensemble(n_neurons=100, dimensions=1)\n",
    "        submodel.ensemble_bl = nengo.Ensemble(n_neurons=80, dimensions=1)\n",
    "        submodel.ensemble_cem = nengo.Ensemble(n_neurons=60, dimensions=1)\n",
    "        submodel.ensemble_fear = nengo.Ensemble(n_neurons=60, dimensions=1)\n",
    "\n",
    "        nengo.Connection(submodel.cs.stim, submodel.ensemble_c)\n",
    "        nengo.Connection(submodel.us.stim, submodel.ensemble_u)\n",
    "        nengo.Connection(submodel.ensemble_c, submodel.ensemble_la, learning_rule_type=nengo.PES(learning_rate=2e-4))\n",
    "        nengo.Connection(submodel.ensemble_u, submodel.ensemble_la, synapse=.01, transform=1)\n",
    "        nengo.Connection(submodel.ensemble_la, submodel.ensemble_bl, transform=.965)\n",
    "        nengo.Connection(submodel.ensemble_la, submodel.ensemble_cem, synapse=.01, transform=.035)\n",
    "        nengo.Connection(submodel.ensemble_bl, submodel.ensemble_cem, synapse=.01)\n",
    "        \n",
    "        # Fear is not a group of neurons; instead it corresponds to output of CEm.\n",
    "        nengo.Connection(submodel.ensemble_cem, submodel.ensemble_fear, function=lambda x: x if x > 0.75 else 0)\n",
    "        \n",
    "    return submodel"
   ]
  },
  {
   "cell_type": "code",
   "execution_count": 6,
   "metadata": {},
   "outputs": [],
   "source": [
    "def post_pair():\n",
    "    ## CS is presented in the absence of the US\n",
    "    with nengo.Network() as submodel:\n",
    "        submodel.cs = InputSignal()\n",
    "        submodel.us = VoidSignal()\n",
    "        \n",
    "        submodel.ensemble_c = nengo.Ensemble(n_neurons=100, dimensions=1)\n",
    "        submodel.ensemble_u = nengo.Ensemble(n_neurons=100, dimensions=1)        \n",
    "        submodel.ensemble_la = nengo.Ensemble(n_neurons=100, dimensions=1)\n",
    "        submodel.ensemble_bl = nengo.Ensemble(n_neurons=80, dimensions=1)\n",
    "        submodel.ensemble_cem = nengo.Ensemble(n_neurons=60, dimensions=1)\n",
    "        submodel.ensemble_fear = nengo.Ensemble(n_neurons=60, dimensions=1)\n",
    "\n",
    "        nengo.Connection(submodel.cs.stim, submodel.ensemble_c)\n",
    "        nengo.Connection(submodel.us.stim, submodel.ensemble_u)        \n",
    "        nengo.Connection(submodel.ensemble_c, submodel.ensemble_la, synapse=.01, transform=1)\n",
    "        nengo.Connection(submodel.ensemble_u, submodel.ensemble_la, synapse=.01, transform=1)\n",
    "        nengo.Connection(submodel.ensemble_la, submodel.ensemble_bl, transform=.965)\n",
    "        nengo.Connection(submodel.ensemble_la, submodel.ensemble_cem, synapse=.01, transform=.035)\n",
    "        nengo.Connection(submodel.ensemble_bl, submodel.ensemble_cem, synapse=.01)\n",
    "        \n",
    "        # Fear is not a group of neurons; instead it corresponds to output of CEm.\n",
    "        nengo.Connection(submodel.ensemble_cem, submodel.ensemble_fear, function=lambda x: x if x > 0.75 else 0)\n",
    "        \n",
    "    return submodel"
   ]
  },
  {
   "cell_type": "code",
   "execution_count": 7,
   "metadata": {},
   "outputs": [],
   "source": [
    "def testf(argu):\n",
    "    with nengo.Simulator(argu) as sim:\n",
    "        sim.run(12.0)\n",
    "    #t = sim.trange()\n",
    "    return sim"
   ]
  },
  {
   "cell_type": "code",
   "execution_count": 8,
   "metadata": {},
   "outputs": [],
   "source": [
    "model = nengo.Network()\n",
    "with model:\n",
    "    \n",
    "    # without learning; CS isn't paired with US\n",
    "    model.pre_paired = pre_pair()\n",
    "    \n",
    "    # Probing an ensemble gives the decoded value\n",
    "    CS_p_pre = nengo.Probe(model.pre_paired.cs.stim)\n",
    "    US_p_pre = nengo.Probe(model.pre_paired.us.stim)\n",
    "    CEm_p_pre = nengo.Probe(model.pre_paired.ensemble_cem, synapse=.01)\n",
    "    Fear_p_pre = nengo.Probe(model.pre_paired.ensemble_fear, synapse=.08)\n",
    "    \n",
    "    # CS is paired with US\n",
    "    model.s_pairing = pairing()\n",
    "    \n",
    "    # Probing an ensemble gives the decoded value\n",
    "    CS_p_p = nengo.Probe(model.s_pairing.cs.stim)\n",
    "    US_p_p = nengo.Probe(model.s_pairing.us.stim)\n",
    "    CEm_p_p = nengo.Probe(model.s_pairing.ensemble_cem, synapse=.01)\n",
    "    Fear_p_p = nengo.Probe(model.s_pairing.ensemble_fear, synapse=.01)\n",
    "    \n",
    "    # CS is presented in the absence of the US\n",
    "    model.post_paired = post_pair()\n",
    "    \n",
    "    # Probing an ensemble gives the decoded value\n",
    "    CS_p_pst = nengo.Probe(model.post_paired.cs.stim)\n",
    "    US_p_pst = nengo.Probe(model.post_paired.us.stim)\n",
    "    CEm_p_pst = nengo.Probe(model.post_paired.ensemble_cem, synapse=.01)\n",
    "    Fear_p_pst = nengo.Probe(model.post_paired.ensemble_fear, synapse=.01)"
   ]
  },
  {
   "cell_type": "code",
   "execution_count": 9,
   "metadata": {},
   "outputs": [
    {
     "data": {
      "application/vdom.v1+json": {
       "attributes": {},
       "tagName": "div"
      },
      "text/html": [
       "\n",
       "                <script>\n",
       "                    if (Jupyter.version.split(\".\")[0] < 5) {\n",
       "                        var pb = document.getElementById(\"2a2441d8-eb6b-4f47-ac54-d26d5b8ab135\");\n",
       "                        var text = document.createTextNode(\n",
       "                            \"HMTL progress bar requires Jupyter Notebook >= \" +\n",
       "                            \"5.0 or Jupyter Lab. Alternatively, you can use \" +\n",
       "                            \"TerminalProgressBar().\");\n",
       "                        pb.parentNode.insertBefore(text, pb);\n",
       "                    }\n",
       "                </script>\n",
       "                <div id=\"2a2441d8-eb6b-4f47-ac54-d26d5b8ab135\" style=\"\n",
       "                    width: 100%;\n",
       "                    border: 1px solid #cfcfcf;\n",
       "                    border-radius: 4px;\n",
       "                    text-align: center;\n",
       "                    position: relative;\">\n",
       "                  <div class=\"pb-text\" style=\"\n",
       "                      position: absolute;\n",
       "                      width: 100%;\">\n",
       "                    0%\n",
       "                  </div>\n",
       "                  <div class=\"pb-fill\" style=\"\n",
       "                      background-color: #bdd2e6;\n",
       "                      width: 0%;\">\n",
       "                    <style type=\"text/css\" scoped=\"scoped\">\n",
       "                        @keyframes pb-fill-anim {\n",
       "                            0% { background-position: 0 0; }\n",
       "                            100% { background-position: 100px 0; }\n",
       "                        }\n",
       "                    </style>\n",
       "                    &nbsp;\n",
       "                  </div>\n",
       "                </div>"
      ],
      "text/plain": [
       "HtmlProgressBar cannot be displayed. Please use the TerminalProgressBar. It can be enabled with `nengo.rc.set('progress', 'progress_bar', 'nengo.utils.progress.TerminalProgressBar')`."
      ]
     },
     "metadata": {},
     "output_type": "display_data"
    },
    {
     "data": {
      "application/vdom.v1+json": {
       "attributes": {
        "id": "13314a2a-6afc-4035-974d-13000c10ff37",
        "style": {
         "border": "1px solid #cfcfcf",
         "borderRadius": "4px",
         "boxSizing": "border-box",
         "position": "relative",
         "textAlign": "center",
         "width": "100%"
        }
       },
       "children": [
        {
         "attributes": {
          "class": "pb-text",
          "style": {
           "position": "absolute",
           "width": "100%"
          }
         },
         "children": [
          "Build finished in 0:00:01."
         ],
         "tagName": "div"
        },
        {
         "attributes": {
          "class": "pb-fill",
          "style": {
           "animation": "none",
           "backgroundColor": "#bdd2e6",
           "backgroundImage": "none",
           "backgroundSize": "100px 100%",
           "width": "100%"
          }
         },
         "children": [
          {
           "attributes": {
            "scoped": "scoped",
            "type": "text/css"
           },
           "children": [
            "\n                        @keyframes pb-fill-anim {\n                            0% { background-position: 0 0; }\n                            100% { background-position: 100px 0; }\n                        }}"
           ],
           "tagName": "style"
          },
          " "
         ],
         "tagName": "div"
        }
       ],
       "tagName": "div"
      },
      "text/html": [
       "<script>\n",
       "              (function () {\n",
       "                  var root = document.getElementById('2a2441d8-eb6b-4f47-ac54-d26d5b8ab135');\n",
       "                  var text = root.getElementsByClassName('pb-text')[0];\n",
       "                  var fill = root.getElementsByClassName('pb-fill')[0];\n",
       "\n",
       "                  text.innerHTML = 'Build finished in 0:00:01.';\n",
       "                  \n",
       "            fill.style.width = '100%';\n",
       "            fill.style.animation = 'pb-fill-anim 2s linear infinite';\n",
       "            fill.style.backgroundSize = '100px 100%';\n",
       "            fill.style.backgroundImage = 'repeating-linear-gradient(' +\n",
       "                '90deg, #bdd2e6, #edf2f8 40%, #bdd2e6 80%, #bdd2e6)';\n",
       "        \n",
       "                  \n",
       "                fill.style.animation = 'none';\n",
       "                fill.style.backgroundImage = 'none';\n",
       "            \n",
       "              })();\n",
       "        </script>"
      ]
     },
     "metadata": {},
     "output_type": "display_data"
    },
    {
     "data": {
      "application/vdom.v1+json": {
       "attributes": {},
       "tagName": "div"
      },
      "text/html": [
       "\n",
       "                <script>\n",
       "                    if (Jupyter.version.split(\".\")[0] < 5) {\n",
       "                        var pb = document.getElementById(\"4b1a4cec-f5d4-40d8-bedc-1adf1590b841\");\n",
       "                        var text = document.createTextNode(\n",
       "                            \"HMTL progress bar requires Jupyter Notebook >= \" +\n",
       "                            \"5.0 or Jupyter Lab. Alternatively, you can use \" +\n",
       "                            \"TerminalProgressBar().\");\n",
       "                        pb.parentNode.insertBefore(text, pb);\n",
       "                    }\n",
       "                </script>\n",
       "                <div id=\"4b1a4cec-f5d4-40d8-bedc-1adf1590b841\" style=\"\n",
       "                    width: 100%;\n",
       "                    border: 1px solid #cfcfcf;\n",
       "                    border-radius: 4px;\n",
       "                    text-align: center;\n",
       "                    position: relative;\">\n",
       "                  <div class=\"pb-text\" style=\"\n",
       "                      position: absolute;\n",
       "                      width: 100%;\">\n",
       "                    0%\n",
       "                  </div>\n",
       "                  <div class=\"pb-fill\" style=\"\n",
       "                      background-color: #bdd2e6;\n",
       "                      width: 0%;\">\n",
       "                    <style type=\"text/css\" scoped=\"scoped\">\n",
       "                        @keyframes pb-fill-anim {\n",
       "                            0% { background-position: 0 0; }\n",
       "                            100% { background-position: 100px 0; }\n",
       "                        }\n",
       "                    </style>\n",
       "                    &nbsp;\n",
       "                  </div>\n",
       "                </div>"
      ],
      "text/plain": [
       "HtmlProgressBar cannot be displayed. Please use the TerminalProgressBar. It can be enabled with `nengo.rc.set('progress', 'progress_bar', 'nengo.utils.progress.TerminalProgressBar')`."
      ]
     },
     "metadata": {},
     "output_type": "display_data"
    },
    {
     "data": {
      "application/vdom.v1+json": {
       "attributes": {
        "id": "63b3a177-e3e9-49de-b847-a01291652a75",
        "style": {
         "border": "1px solid #cfcfcf",
         "borderRadius": "4px",
         "boxSizing": "border-box",
         "position": "relative",
         "textAlign": "center",
         "width": "100%"
        }
       },
       "children": [
        {
         "attributes": {
          "class": "pb-text",
          "style": {
           "position": "absolute",
           "width": "100%"
          }
         },
         "children": [
          "Simulation finished in 0:00:25."
         ],
         "tagName": "div"
        },
        {
         "attributes": {
          "class": "pb-fill",
          "style": {
           "animation": "none",
           "backgroundColor": "#bdd2e6",
           "backgroundImage": "none",
           "transition": "width 0.1s linear",
           "width": "100%"
          }
         },
         "children": [
          {
           "attributes": {
            "scoped": "scoped",
            "type": "text/css"
           },
           "children": [
            "\n                        @keyframes pb-fill-anim {\n                            0% { background-position: 0 0; }\n                            100% { background-position: 100px 0; }\n                        }}"
           ],
           "tagName": "style"
          },
          " "
         ],
         "tagName": "div"
        }
       ],
       "tagName": "div"
      },
      "text/html": [
       "<script>\n",
       "              (function () {\n",
       "                  var root = document.getElementById('4b1a4cec-f5d4-40d8-bedc-1adf1590b841');\n",
       "                  var text = root.getElementsByClassName('pb-text')[0];\n",
       "                  var fill = root.getElementsByClassName('pb-fill')[0];\n",
       "\n",
       "                  text.innerHTML = 'Simulation finished in 0:00:25.';\n",
       "                  \n",
       "            if (100.0 > 0.) {\n",
       "                fill.style.transition = 'width 0.1s linear';\n",
       "            } else {\n",
       "                fill.style.transition = 'none';\n",
       "            }\n",
       "\n",
       "            fill.style.width = '100.0%';\n",
       "            fill.style.animation = 'none';\n",
       "            fill.style.backgroundImage = 'none'\n",
       "        \n",
       "                  \n",
       "                fill.style.animation = 'none';\n",
       "                fill.style.backgroundImage = 'none';\n",
       "            \n",
       "              })();\n",
       "        </script>"
      ]
     },
     "metadata": {},
     "output_type": "display_data"
    }
   ],
   "source": [
    "simulation = testf(model)"
   ]
  },
  {
   "cell_type": "code",
   "execution_count": 10,
   "metadata": {},
   "outputs": [
    {
     "data": {
      "image/png": "[encoded data removed]",
      "text/plain": [
       "<Figure size 1008x432 with 4 Axes>"
      ]
     },
     "metadata": {
      "needs_background": "light"
     },
     "output_type": "display_data"
    }
   ],
   "source": [
    "CS_p = np.zeros(12000)\n",
    "US_p = np.zeros(12000)\n",
    "CEm_p = np.zeros(12000)\n",
    "Fear_p = np.zeros(12000)\n",
    "for i in range(0,4000):\n",
    "    CS_p[i] = simulation.data[CS_p_pre][i]\n",
    "    US_p[i] = simulation.data[US_p_pre][i]\n",
    "    CEm_p[i] = simulation.data[CEm_p_pre][i]\n",
    "    Fear_p[i] = simulation.data[Fear_p_pre][i]\n",
    "for i in range(4000,7999):\n",
    "    CS_p[i] = simulation.data[CS_p_p][i]\n",
    "    US_p[i] = simulation.data[US_p_p][i]\n",
    "    CEm_p[i] = simulation.data[CEm_p_p][i]\n",
    "    Fear_p[i] = simulation.data[Fear_p_p][i]\n",
    "for i in range(8000,11999):\n",
    "    CS_p[i] = simulation.data[CS_p_pst][i]\n",
    "    US_p[i] = simulation.data[US_p_pst][i]\n",
    "    CEm_p[i] = simulation.data[CEm_p_pst][i]\n",
    "    Fear_p[i] = simulation.data[Fear_p_pst][i]\n",
    "    \n",
    "t = simulation.trange()\n",
    "plt.figure(figsize=(14, 6))\n",
    "plt.subplot(4, 1, 1)\n",
    "\n",
    "plt.plot(t, CS_p)\n",
    "plt.ylabel(\"CS\")\n",
    "    \n",
    "plt.subplot(4, 1, 2)\n",
    "plt.plot(t, US_p)\n",
    "plt.ylabel(\"US\")\n",
    "plt.yticks(np.arange(0, 1, step=0.25))\n",
    "    \n",
    "plt.subplot(4, 1, 3)\n",
    "plt.plot(t, Fear_p)\n",
    "plt.ylabel(\"Fear\")\n",
    "plt.yticks(np.arange(0, 1, step=0.25))\n",
    "\n",
    "plt.subplot(4, 1, 4)\n",
    "plt.plot(t, CEm_p)\n",
    "plt.xlabel(\"time (s)\")\n",
    "plt.ylabel(\"CEm\")\n",
    "plt.yticks(np.arange(0, 1, step=0.25))\n",
    "plt.tight_layout()"
   ]
  }
 ],
 "metadata": {
  "kernelspec": {
   "display_name": "Python 3",
   "language": "python",
   "name": "python3"
  },
  "language_info": {
   "codemirror_mode": {
    "name": "ipython",
    "version": 3
   },
   "file_extension": ".py",
   "mimetype": "text/x-python",
   "name": "python",
   "nbconvert_exporter": "python",
   "pygments_lexer": "ipython3",
   "version": "3.7.6"
  }
 },
 "nbformat": 4,
 "nbformat_minor": 4
}
